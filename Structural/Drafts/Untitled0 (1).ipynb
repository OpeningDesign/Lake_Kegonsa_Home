{
 "metadata": {
  "name": "",
  "signature": "sha256:f178a5277c88d7f9975cb877b72638e85f94cbbf3d6991f62d2857aff3755a9d"
 },
 "nbformat": 3,
 "nbformat_minor": 0,
 "worksheets": [
  {
   "cells": [
    {
     "cell_type": "code",
     "collapsed": false,
     "input": [
      "W1=5.5 #kips\n",
      "W2=0   #kips\n",
      "l1=10.42*12 #in\n",
      "l2=13.7*12 #in\n",
      "a1=l1/2\n",
      "b1=l1/2\n",
      "a2=l2/2\n",
      "b2=l2/2\n",
      "E=29000.0 #KSI\n",
      "Ddesign=0.457 #in\n",
      "Idesign=12.7 #in^4"
     ],
     "language": "python",
     "metadata": {},
     "outputs": [],
     "prompt_number": 167
    },
    {
     "cell_type": "markdown",
     "metadata": {},
     "source": [
      "Reactions are as follows:"
     ]
    },
    {
     "cell_type": "code",
     "collapsed": false,
     "input": [
      "m=1/(2*(l1+l2))*(W1*a1*b1/l1*(l1+a1) + W2*a2*b2/l2*(l2+a2))\n",
      "r1=(W1*b1-m)/l1\n",
      "r2=(W2*b2-m)/l2\n",
      "r=(W1*a1+m)/l1+(W2*a2+m)/l2\n",
      "(r1+r2+r, m, r1, r, r2)"
     ],
     "language": "python",
     "metadata": {},
     "outputs": [
      {
       "metadata": {},
       "output_type": "pyout",
       "prompt_number": 173,
       "text": [
        "(5.5,\n",
        " 55.706175373134336,\n",
        " 2.3044931592039797,\n",
        " 3.534352189781022,\n",
        " -0.33884534898500207)"
       ]
      }
     ],
     "prompt_number": 173
    },
    {
     "cell_type": "markdown",
     "metadata": {},
     "source": [
      "Moments are as follows:"
     ]
    },
    {
     "cell_type": "code",
     "collapsed": false,
     "input": [
      "M1 = - 3.0/16.0 * ((W1*l1**2 + W2*l2**2)/(l1+l2)) # variant 1\n",
      "M1"
     ],
     "language": "python",
     "metadata": {},
     "outputs": [
      {
       "metadata": {},
       "output_type": "pyout",
       "prompt_number": 169,
       "text": [
        "-55.70617537313433"
       ]
      }
     ],
     "prompt_number": 169
    },
    {
     "cell_type": "code",
     "collapsed": false,
     "input": [
      "M1 = r1*l1 - W1*b1 # variant 2\n",
      "M2 = r2*l2 - W2*a2\n",
      "M1, M2"
     ],
     "language": "python",
     "metadata": {},
     "outputs": [
      {
       "metadata": {},
       "output_type": "pyout",
       "prompt_number": 170,
       "text": [
        "(-55.70617537313433, -55.706175373134336)"
       ]
      }
     ],
     "prompt_number": 170
    },
    {
     "cell_type": "markdown",
     "metadata": {},
     "source": [
      "Let's find the required moment of inertia under each of the forces."
     ]
    },
    {
     "cell_type": "markdown",
     "metadata": {},
     "source": [
      "Let's set the location variables and find the deflection under W1:"
     ]
    },
    {
     "cell_type": "code",
     "collapsed": false,
     "input": [
      "w=5.02*12\n",
      "D =(w)/(6*E*Idesign)*((l1-w)*(l1+w)*r1-W1*b1**3/l1)\n",
      "I =(w)/(6*E*Ddesign)*((l1-w)*(l1+w)*r1-W1*b1**3/l1)\n",
      "(D, I) #in, in**4"
     ],
     "language": "python",
     "metadata": {},
     "outputs": [
      {
       "metadata": {},
       "output_type": "pyout",
       "prompt_number": 171,
       "text": [
        "(0.46121882076794934, 12.817240752194653)"
       ]
      }
     ],
     "prompt_number": 171
    },
    {
     "cell_type": "code",
     "collapsed": false,
     "input": [
      "u=0*12\n",
      "D = u/(6*E*Idesign*l1) * (W1*a1*b1*(l1+a1) - W1*a1*u**2 - m*(2*l1-u)*(l1-u))\n",
      "I = u/(6*E*Ddesign*l1) * (W1*a1*b1*(l1+a1) - W1*a1*u**2 - m*(2*l1-u)*(l1-u))\n",
      "(D, I) #in"
     ],
     "language": "python",
     "metadata": {},
     "outputs": [
      {
       "metadata": {},
       "output_type": "pyout",
       "prompt_number": 172,
       "text": [
        "(0.0, 0.0)"
       ]
      }
     ],
     "prompt_number": 172
    }
   ],
   "metadata": {}
  }
 ]
}